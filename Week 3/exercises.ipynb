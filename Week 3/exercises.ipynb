{
 "cells": [
  {
   "cell_type": "code",
   "execution_count": 1,
   "metadata": {},
   "outputs": [],
   "source": [
    "def solar_system(num_planets):\n",
    "  \"\"\"Returns a string like\n",
    "   \"There are <num_planets> planets in the solar system\"\n",
    "   where num_planets is provided as an argument.\n",
    "\n",
    "  >>> solar_system(8)\n",
    "  'There are 8 planets in the solar system'\n",
    "  >>> solar_system(9)\n",
    "  'There are 9 planets in the solar system'\n",
    "  \"\"\"\n",
    "  return f\"There are {num_planets} planets in the solar system\" "
   ]
  },
  {
   "cell_type": "code",
   "execution_count": null,
   "metadata": {},
   "outputs": [],
   "source": [
    "def location(place, lat, lng):\n",
    "  \"\"\"Returns a string which starts with the provided place,\n",
    "  then has an @ sign, then the comma-separated lat and lng\n",
    "  \n",
    "  >>> location(\"Tilden Farm\", 37.91, -122.29)\n",
    "  'Tilden Farm @ 37.91, -122.29'\n",
    "  >>> location(\"Salton Sea\", 33.309,-115.979)\n",
    "  'Salton Sea @ 33.309, -115.979'\n",
    "  \"\"\"\n",
    "  return f\"{place} @ {lat}, {lng}\""
   ]
  },
  {
   "cell_type": "code",
   "execution_count": null,
   "metadata": {},
   "outputs": [],
   "source": [
    "def dr_evil(amount):\n",
    "  \"\"\"Returns '<amount> dollars', adding '(pinky)' at the end\n",
    "  if the amount is 1 million or more.\n",
    "   \n",
    "  >>> dr_evil(10)\n",
    "  '10 dollars'\n",
    "  >>> dr_evil(1000000)\n",
    "  '1000000 dollars (pinky)'\n",
    "  >>> dr_evil(2000000)\n",
    "  '2000000 dollars (pinky)'\n",
    "  \"\"\"\n",
    "  if amount >= 1000000:\n",
    "    return f\"{amount} dollars (pinky)\"\n",
    "  else:\n",
    "    return f\"{amount} dollars\""
   ]
  },
  {
   "cell_type": "markdown",
   "metadata": {},
   "source": [
    "However, strings are different from lists in that they are immutable, meaning they cannot be changed after they're created. Using bracket notation to try to change a character will result in an error."
   ]
  },
  {
   "cell_type": "markdown",
   "metadata": {},
   "source": [
    "illness[0] = \"n\"   # 🚫 Error!"
   ]
  },
  {
   "cell_type": "code",
   "execution_count": 5,
   "metadata": {},
   "outputs": [
    {
     "data": {
      "text/plain": [
       "'F'"
      ]
     },
     "execution_count": 5,
     "metadata": {},
     "output_type": "execute_result"
    }
   ],
   "source": [
    "author_name = 'P S Fox'\n",
    "author_name[4]\n",
    "#spaces count as characters"
   ]
  },
  {
   "cell_type": "code",
   "execution_count": 6,
   "metadata": {},
   "outputs": [
    {
     "data": {
      "text/plain": [
       "'Fox'"
      ]
     },
     "execution_count": 6,
     "metadata": {},
     "output_type": "execute_result"
    }
   ],
   "source": [
    "author_name[4:]"
   ]
  },
  {
   "cell_type": "code",
   "execution_count": 7,
   "metadata": {},
   "outputs": [],
   "source": [
    "my_groceries = 'apples,bananas,carrots'\n",
    "grocery_items = my_groceries.split(',')   # Stores [\"apples\", \"bananas\", \"carrots\"]"
   ]
  },
  {
   "cell_type": "code",
   "execution_count": 8,
   "metadata": {},
   "outputs": [
    {
     "name": "stdout",
     "output_type": "stream",
     "text": [
      "apples\n",
      "bananas\n",
      "carrots\n"
     ]
    }
   ],
   "source": [
    "for item in grocery_items:\n",
    "    print(item)"
   ]
  },
  {
   "cell_type": "code",
   "execution_count": 9,
   "metadata": {},
   "outputs": [
    {
     "data": {
      "text/plain": [
       "'123 Pining St,Nibbsville,OH'"
      ]
     },
     "execution_count": 9,
     "metadata": {},
     "output_type": "execute_result"
    }
   ],
   "source": [
    "address_parts = [\"123 Pining St\", \"Nibbsville\", \"OH\"]\n",
    "\",\".join(address_parts) # '123 Pining St, Nibbsville, OH'"
   ]
  },
  {
   "cell_type": "code",
   "execution_count": 10,
   "metadata": {},
   "outputs": [
    {
     "data": {
      "text/plain": [
       "'GrayFox'"
      ]
     },
     "execution_count": 10,
     "metadata": {},
     "output_type": "execute_result"
    }
   ],
   "source": [
    "names = [\"Gray\", \"Fox\"]\n",
    "\"\".join(names)   # 'GrayFox'"
   ]
  },
  {
   "cell_type": "code",
   "execution_count": 14,
   "metadata": {},
   "outputs": [
    {
     "data": {
      "text/plain": [
       "'Forgive me\\nthey were delicious\\nso sweet\\nand so cold'"
      ]
     },
     "execution_count": 14,
     "metadata": {},
     "output_type": "execute_result"
    }
   ],
   "source": [
    "poem_lines = [\"Forgive me\", \"they were delicious\", \"so sweet\", \"and so cold\"]\n",
    "\"\\n\".join(poem_lines)"
   ]
  },
  {
   "cell_type": "code",
   "execution_count": null,
   "metadata": {},
   "outputs": [],
   "source": [
    "def bleep_out(string1, string2):\n",
    "  \"\"\"Returns a version of string1 where all instances of string2\n",
    "  have been replaced by \"***\".\n",
    "\n",
    "  >>> bleep_out('i freaking love carrots', 'freaking')\n",
    "  'i *** love carrots'\n",
    "  >>> bleep_out('oh dang oh dang oh dang', 'dang')\n",
    "  'oh *** oh *** oh ***'\n",
    "  \"\"\"\n",
    " \n",
    "  return string1.replace(string2, \"***\")"
   ]
  },
  {
   "cell_type": "code",
   "execution_count": 15,
   "metadata": {},
   "outputs": [],
   "source": [
    "def phone_number_versions(phone_number):\n",
    "    \"\"\"\n",
    "    Accepts a hyphen-separated phone number and returns\n",
    "    a list containing the original version, a space-separated version,\n",
    "    and a period-separated version.\n",
    "    \n",
    "    >>> phone_number_versions('1-800-867-5309')\n",
    "    ['1-800-867-5309', '1 800 867 5309', '1.800.867.5309']\n",
    "    \"\"\"\n",
    "    return [phone_number, phone_number.replace(\"-\", \" \"),\n",
    "    phone_number.replace(\"-\",\".\")] # REPLACE THIS LINE"
   ]
  },
  {
   "cell_type": "markdown",
   "metadata": {},
   "source": [
    "Fortunately, there's another approach if we're not sure about a key's existence. Python dicts have a get method that will retrieve a value if the key exists, and will otherwise default to whatever value you specify.\n",
    "\n",
    "In this example, the default is a thinking face emoji:"
   ]
  },
  {
   "cell_type": "code",
   "execution_count": 17,
   "metadata": {},
   "outputs": [],
   "source": [
    "words = {\n",
    "    \"más\": \"more\",\n",
    "    \"otro\": \"other\",\n",
    "    \"agua\": \"water\"\n",
    "}"
   ]
  },
  {
   "cell_type": "code",
   "execution_count": 18,
   "metadata": {},
   "outputs": [
    {
     "data": {
      "text/plain": [
       "'🤔'"
      ]
     },
     "execution_count": 18,
     "metadata": {},
     "output_type": "execute_result"
    }
   ],
   "source": [
    "words.get(\"pavo\", \"🤔\")  # '🤔'"
   ]
  },
  {
   "cell_type": "code",
   "execution_count": 19,
   "metadata": {},
   "outputs": [],
   "source": [
    "words.get(\"pavo\") # Returns None"
   ]
  },
  {
   "cell_type": "code",
   "execution_count": 20,
   "metadata": {},
   "outputs": [],
   "source": [
    "# Create an empty dictionary\n",
    "users = {}"
   ]
  },
  {
   "cell_type": "code",
   "execution_count": 21,
   "metadata": {},
   "outputs": [],
   "source": [
    "# Add values to the dictionary\n",
    "users[\"pamelafox\"] = \"b3stp@ssEvErDontHackMe\""
   ]
  },
  {
   "cell_type": "code",
   "execution_count": 22,
   "metadata": {},
   "outputs": [
    {
     "data": {
      "text/plain": [
       "{'pamelafox': 'b3stp@ssEvErDontHackMe'}"
      ]
     },
     "execution_count": 22,
     "metadata": {},
     "output_type": "execute_result"
    }
   ],
   "source": [
    "users"
   ]
  },
  {
   "cell_type": "code",
   "execution_count": 23,
   "metadata": {},
   "outputs": [],
   "source": [
    "# Add to the existing value\n",
    "users[\"pamelafox\"] += \"itsLongerSoItsMoreSecure!!\""
   ]
  },
  {
   "cell_type": "code",
   "execution_count": 24,
   "metadata": {},
   "outputs": [
    {
     "data": {
      "text/plain": [
       "{'pamelafox': 'b3stp@ssEvErDontHackMeitsLongerSoItsMoreSecure!!'}"
      ]
     },
     "execution_count": 24,
     "metadata": {},
     "output_type": "execute_result"
    }
   ],
   "source": [
    "users"
   ]
  },
  {
   "cell_type": "markdown",
   "metadata": {},
   "source": [
    "All of our example dicts so far have been using string keys and string values. However, it is possible to use any immutable type as a key - so the keys could actually be numbers! It's not nearly as common, but it is possible."
   ]
  },
  {
   "cell_type": "code",
   "execution_count": 25,
   "metadata": {},
   "outputs": [],
   "source": [
    "pixar_by_year = {\n",
    "   1995: \"Toy Story\",\n",
    "   1998: \"A Bug's Life\",\n",
    "   1999: \"Toy Story 2\",\n",
    "   2001: \"Monsters, Inc\",\n",
    "   2003: \"Finding Nemo\"\n",
    "}"
   ]
  },
  {
   "cell_type": "code",
   "execution_count": 26,
   "metadata": {},
   "outputs": [],
   "source": [
    "pixar_by_year = {\n",
    "   2017: [\"Coco\", \"Cars 3\"],\n",
    "   2018: [\"Incredibles 2\"],\n",
    "   2019: [\"Toy Story 4\"],\n",
    "   2020: [\"Soul\", \"Onward\"]\n",
    "}"
   ]
  },
  {
   "cell_type": "code",
   "execution_count": 27,
   "metadata": {},
   "outputs": [],
   "source": [
    "spiders = {\n",
    "  \"smeringopus\": {\n",
    "      \"name\": \"Pale Daddy Long-leg\",\n",
    "      \"length\": 7\n",
    "  },\n",
    "  \"holocnemus pluchei\": {\n",
    "      \"name\": \"Marbled cellar spider\",\n",
    "      \"length\": (5, 7)\n",
    "  }\n",
    "}"
   ]
  },
  {
   "cell_type": "code",
   "execution_count": 28,
   "metadata": {},
   "outputs": [
    {
     "data": {
      "text/plain": [
       "'Marbled cellar spider'"
      ]
     },
     "execution_count": 28,
     "metadata": {},
     "output_type": "execute_result"
    }
   ],
   "source": [
    "# Dictionaries do NOT have indices\n",
    "spiders[\"holocnemus pluchei\"][\"name\"]"
   ]
  },
  {
   "cell_type": "code",
   "execution_count": 29,
   "metadata": {},
   "outputs": [
    {
     "name": "stdout",
     "output_type": "stream",
     "text": [
      "8\n",
      "100\n",
      "6\n"
     ]
    }
   ],
   "source": [
    "insects = {\"spiders\": 8, \"centipedes\": 100, \"bees\": 6}\n",
    "for name in insects:\n",
    "    print(insects[name])"
   ]
  },
  {
   "cell_type": "markdown",
   "metadata": {},
   "source": [
    "What will be the order of the keys during the iteration? In younger versions of Python, the order was not defined, so the iteration might go through the keys in any order. However, in modern Python, the order is always according to when the keys were added to the dictionary.\n",
    "\n",
    "In the example above, the order would be \"spiders\", then \"centipedes\", then \"bees\", so the loop would print 8, then 100, then 6."
   ]
  },
  {
   "cell_type": "code",
   "execution_count": 30,
   "metadata": {},
   "outputs": [],
   "source": [
    "states = {\n",
    "    \"CA\": \"California\",\n",
    "    \"DE\": \"Delaware\",\n",
    "    \"NY\": \"New York\",\n",
    "    \"TX\": \"Texas\",\n",
    "    \"WY\": \"Wyoming\"\n",
    "}"
   ]
  },
  {
   "cell_type": "code",
   "execution_count": 31,
   "metadata": {},
   "outputs": [
    {
     "data": {
      "text/plain": [
       "5"
      ]
     },
     "execution_count": 31,
     "metadata": {},
     "output_type": "execute_result"
    }
   ],
   "source": [
    "len(states)  # 5"
   ]
  },
  {
   "cell_type": "code",
   "execution_count": 32,
   "metadata": {},
   "outputs": [
    {
     "data": {
      "text/plain": [
       "False"
      ]
     },
     "execution_count": 32,
     "metadata": {},
     "output_type": "execute_result"
    }
   ],
   "source": [
    "\"CA\" in states  # True\n",
    "\"ZZ\" in states  # False"
   ]
  },
  {
   "cell_type": "code",
   "execution_count": 33,
   "metadata": {},
   "outputs": [
    {
     "name": "stdout",
     "output_type": "stream",
     "text": [
      "curry chicken\n",
      "10\n",
      "['chicken', 'mint', 'curry powder']\n",
      "{'title': 'curry chicken', 'servings': 10, 'ingredients': ['chicken', 'mint', 'curry powder']}\n"
     ]
    }
   ],
   "source": [
    "recipe = {\n",
    "  # Put title key/value here - value should be a string\n",
    "  # Put servings key/value here - value should be a number\n",
    "  # Put ingredients key/value here - value should be a list\n",
    "  \"title\" : 'curry chicken',\n",
    "  \"servings\" : 10,\n",
    "  \"ingredients\" : ['chicken', 'mint', 'curry powder']\n",
    "}\n",
    "\n",
    "# Store the recipe's title in this variable\n",
    "# by using bracket notation on the recipe variable\n",
    "title = recipe[\"title\"]\n",
    "print(title)\n",
    "\n",
    "# Store the recipe's servings # in this variable\n",
    "# by using bracket notation on the recipe variable\n",
    "servings = recipe[\"servings\"]\n",
    "print(servings)\n",
    "\n",
    "# Store the recipe's ingredients list in this variable\n",
    "# by using bracket notation on the recipe variable\n",
    "ingredients = recipe[\"ingredients\"]\n",
    "print(ingredients)\n",
    "print(recipe)"
   ]
  },
  {
   "cell_type": "code",
   "execution_count": null,
   "metadata": {},
   "outputs": [],
   "source": [
    "def movie_summary(movie):\n",
    "    \"\"\"\n",
    "    Accepts movie, a dictionary with three keys-\n",
    "    title (string), duration (number), actors (list of strings),\n",
    "    and returns a string of the form\n",
    "    \"<title> lasts for <duration> minutes. Stars: <actor, ...>\"\n",
    "    \n",
    "    >>> puff = {\n",
    "    ...     \"title\": \"Puff the Magic Dragon\",\n",
    "    ...     \"duration\": 30,\n",
    "    ...     \"actors\": [\"Puff\", \"Jackie\", \"Living Sneezes\"]\n",
    "    ... }\n",
    "    >>> movie_summary(puff)\n",
    "    'Puff the Magic Dragon lasts for 30 minutes. Stars: Puff, Jackie, Living Sneezes.'\n",
    "    >>> arrival = {\n",
    "    ...     \"title\": \"Arrival\",\n",
    "    ...     \"duration\": \"118\",\n",
    "    ...     \"actors\": [\"Amy Adams\", \"Jeremy Renner\"]\n",
    "    ... }\n",
    "    >>> movie_summary(arrival)\n",
    "    'Arrival lasts for 118 minutes. Stars: Amy Adams, Jeremy Renner.'\n",
    "    \"\"\"\n",
    "    actor_string = movie['actors']\n",
    "    print(actor_string)\n",
    "    return f\"{movie['title']} lasts for {movie['duration']} minutes. Stars: {movie['actors']}.\" "
   ]
  },
  {
   "cell_type": "code",
   "execution_count": 35,
   "metadata": {},
   "outputs": [],
   "source": [
    "arrival = {\n",
    "\"title\": \"Arrival\",\n",
    "\"duration\": \"118\",\n",
    "\"actors\": [\"Amy Adams\", \"Jeremy Renner\"]\n",
    "}"
   ]
  },
  {
   "cell_type": "code",
   "execution_count": 38,
   "metadata": {},
   "outputs": [
    {
     "name": "stdout",
     "output_type": "stream",
     "text": [
      "Amy Adams, Jeremy Renner\n"
     ]
    }
   ],
   "source": [
    "\n",
    "actor_string = \", \".join(arrival['actors'])\n",
    "print(actor_string)"
   ]
  },
  {
   "cell_type": "code",
   "execution_count": 39,
   "metadata": {},
   "outputs": [],
   "source": [
    "def movie_summary(movie):\n",
    "    \"\"\"\n",
    "    Accepts movie, a dictionary with three keys-\n",
    "    title (string), duration (number), actors (list of strings),\n",
    "    and returns a string of the form\n",
    "    \"<title> lasts for <duration> minutes. Stars: <actor, ...>\"\n",
    "    \n",
    "    >>> puff = {\n",
    "    ...     \"title\": \"Puff the Magic Dragon\",\n",
    "    ...     \"duration\": 30,\n",
    "    ...     \"actors\": [\"Puff\", \"Jackie\", \"Living Sneezes\"]\n",
    "    ... }\n",
    "    >>> movie_summary(puff)\n",
    "    'Puff the Magic Dragon lasts for 30 minutes. Stars: Puff, Jackie, Living Sneezes.'\n",
    "    >>> arrival = {\n",
    "    ...     \"title\": \"Arrival\",\n",
    "    ...     \"duration\": \"118\",\n",
    "    ...     \"actors\": [\"Amy Adams\", \"Jeremy Renner\"]\n",
    "    ... }\n",
    "    >>> movie_summary(arrival)\n",
    "    'Arrival lasts for 118 minutes. Stars: Amy Adams, Jeremy Renner.'\n",
    "    \"\"\"\n",
    "    actor_string = \", \".join(movie['actors'])\n",
    "    # print(actor_string)\n",
    "    return f\"{movie['title']} lasts for {movie['duration']} minutes. Stars: {actor_string}.\" "
   ]
  },
  {
   "cell_type": "code",
   "execution_count": 40,
   "metadata": {},
   "outputs": [],
   "source": [
    "books = [\n",
    "  {\"title\": \"Uncanny Valley\",\n",
    "  \"author\": \"Anna Wiener\",\n",
    "  \"read\": False\n",
    "  },\n",
    "  {\"title\": \"Parable of the Sower\",\n",
    "  \"author\": \"Octavia E. Butler\",\n",
    "  \"read\": True\n",
    "  }\n",
    "]"
   ]
  },
  {
   "cell_type": "code",
   "execution_count": 41,
   "metadata": {},
   "outputs": [
    {
     "data": {
      "text/plain": [
       "'Uncanny Valley'"
      ]
     },
     "execution_count": 41,
     "metadata": {},
     "output_type": "execute_result"
    }
   ],
   "source": [
    "books[0][\"title\"]"
   ]
  },
  {
   "cell_type": "code",
   "execution_count": 42,
   "metadata": {},
   "outputs": [
    {
     "data": {
      "text/plain": [
       "3"
      ]
     },
     "execution_count": 42,
     "metadata": {},
     "output_type": "execute_result"
    }
   ],
   "source": [
    "# How many keys are in the second book dict?\n",
    "len(books[1])"
   ]
  },
  {
   "cell_type": "code",
   "execution_count": null,
   "metadata": {},
   "outputs": [],
   "source": [
    "def count_unread_books(books):\n",
    "    \"\"\" Accepts a list of dicts describing books\n",
    "    and returns the number of unread books in the list.\n",
    "    \n",
    "    >>> books = [{\n",
    "    ...     \"title\": \"Uncanny Valley\",\n",
    "    ...     \"author\": \"Anna Wiener\",\n",
    "    ...     \"read\": False\n",
    "    ...   }, {\n",
    "    ...     \"title\": \"Parable of the Sower\",\n",
    "    ...     \"author\": \"Octavia E. Butler\",\n",
    "    ...     \"read\": True\n",
    "    ...   }]\n",
    "    >>> count_unread_books(books)\n",
    "    1\n",
    "    \"\"\"\n",
    "    # Initialize a count to 0\n",
    "    count = 0\n",
    "    # Iterate through the books\n",
    "    for book in books:\n",
    "    # If a book is not read, increment count\n",
    "        if book[\"read\"] != True:\n",
    "            count +=1\n",
    "    # Return count\n",
    "    return count"
   ]
  },
  {
   "cell_type": "code",
   "execution_count": 43,
   "metadata": {},
   "outputs": [
    {
     "name": "stdout",
     "output_type": "stream",
     "text": [
      "ᑿ\n"
     ]
    }
   ],
   "source": [
    "import random\n",
    "\n",
    "rand_num = random.randint(1, 10000)\n",
    "rand_char = chr(rand_num)\n",
    "\n",
    "print(rand_char)"
   ]
  },
  {
   "cell_type": "code",
   "execution_count": 44,
   "metadata": {},
   "outputs": [
    {
     "data": {
      "text/plain": [
       "[29, 150, 91]"
      ]
     },
     "execution_count": 44,
     "metadata": {},
     "output_type": "execute_result"
    }
   ],
   "source": [
    "def random_rgb():\n",
    "    r = random.randint(0, 255)\n",
    "    g = random.randint(0, 255)\n",
    "    b = random.randint(0, 255)\n",
    "    return [r, g, b]\n",
    "\n",
    "random_rgb()"
   ]
  },
  {
   "cell_type": "markdown",
   "metadata": {},
   "source": [
    "In Python at least, there is one other way of testing a function that relies on randomness. You can initialize the random number generator using a particular seed, and that seed will always result in the same sequence of random values. Typically, the seed is initialized based on the current system time, making output appear different each time, but we can set it to a constant number in our tests.\n",
    "\n",
    "Once setting the seed, we can write a standard input/output test:"
   ]
  },
  {
   "cell_type": "code",
   "execution_count": null,
   "metadata": {},
   "outputs": [],
   "source": [
    "def random_rgb():\n",
    "    \"\"\"Returns a list of random R, G, B color values.\n",
    "    \n",
    "    >>> random.seed(1)\n",
    "    >>> random_rgb()\n",
    "    [106, 184, 0]\n",
    "    \"\"\"\n",
    "    r = random.randint(0, 255)\n",
    "    g = random.randint(0, 255)\n",
    "    b = random.randint(0, 255)\n",
    "    return [r, g, b]"
   ]
  },
  {
   "cell_type": "code",
   "execution_count": 45,
   "metadata": {},
   "outputs": [],
   "source": [
    "yays = [\"You got it!\", \"Congrats!\", \"Well done!\", \"Nice one!\"]"
   ]
  },
  {
   "cell_type": "code",
   "execution_count": 46,
   "metadata": {},
   "outputs": [
    {
     "data": {
      "text/plain": [
       "'Well done!'"
      ]
     },
     "execution_count": 46,
     "metadata": {},
     "output_type": "execute_result"
    }
   ],
   "source": [
    "yays[random.randint(0, len(yays)-1)]"
   ]
  },
  {
   "cell_type": "code",
   "execution_count": 47,
   "metadata": {},
   "outputs": [
    {
     "data": {
      "text/plain": [
       "'Well done!'"
      ]
     },
     "execution_count": 47,
     "metadata": {},
     "output_type": "execute_result"
    }
   ],
   "source": [
    "random.choice(yays)"
   ]
  },
  {
   "cell_type": "markdown",
   "metadata": {},
   "source": [
    "Fortunately, the results of PRNGs are typically random enough to satisfy most use cases. Check out the program above which generates the numbers 1-3 a thousand times and measures the frequency of the results. Does it seem random enough for you?"
   ]
  },
  {
   "cell_type": "code",
   "execution_count": null,
   "metadata": {},
   "outputs": [],
   "source": [
    "import random\n",
    "\n",
    "num_experiments = 10000\n",
    "\n",
    "one_called = 0\n",
    "two_called = 0\n",
    "three_called = 0\n",
    "\n",
    "for _ in range(num_experiments):\n",
    "  random_num = random.randint(1, 3)\n",
    "  if random_num == 1:\n",
    "    one_called += 1\n",
    "  elif random_num == 2:\n",
    "    two_called += 1\n",
    "  elif random_num == 3:\n",
    "    three_called += 1\n",
    "\n",
    "def report_frequency(num, call_count, total_count):\n",
    "  percentage = call_count/total_count\n",
    "  print(f\"{num} called {call_count} times: {percentage}\")\n",
    "\n",
    "report_frequency(1, one_called, num_experiments)\n",
    "report_frequency(2, two_called, num_experiments)\n",
    "report_frequency(3, three_called, num_experiments)"
   ]
  },
  {
   "cell_type": "code",
   "execution_count": null,
   "metadata": {},
   "outputs": [],
   "source": [
    "rows = []\n",
    "my_file =  open(\"longbook.txt\", mode=\"r\")\n",
    "for line in my_file:\n",
    "    rows.append(line)\n",
    "    if line.find('Chapter 2') > -1:\n",
    "        break"
   ]
  },
  {
   "cell_type": "code",
   "execution_count": 48,
   "metadata": {},
   "outputs": [
    {
     "data": {
      "text/plain": [
       "['want', 'love', 'love', 'am', 'am']"
      ]
     },
     "execution_count": 48,
     "metadata": {},
     "output_type": "execute_result"
    }
   ],
   "source": [
    "chain = {'I': ['want', 'love', 'love', 'am', 'am']}\n",
    "current_word = 'I'\n",
    "chain[current_word]"
   ]
  },
  {
   "cell_type": "code",
   "execution_count": 49,
   "metadata": {},
   "outputs": [
    {
     "data": {
      "text/plain": [
       "'am'"
      ]
     },
     "execution_count": 49,
     "metadata": {},
     "output_type": "execute_result"
    }
   ],
   "source": [
    "import random\n",
    "random.choice(chain[current_word])"
   ]
  },
  {
   "cell_type": "code",
   "execution_count": null,
   "metadata": {},
   "outputs": [],
   "source": [
    "# chain is a dictionary\n",
    "# sentence is a string\n",
    "## Updates chain based on the words in a sentence"
   ]
  },
  {
   "cell_type": "code",
   "execution_count": null,
   "metadata": {},
   "outputs": [],
   "source": [
    "def add_sentence(chain, sentence):\n",
    "  \"\"\"\n",
    "  >>> test_chain = {'START_OF_SENTENCE': []}\n",
    "  >>> add_sentence(test_chain, 'I am happy')\n",
    "  >>> test_chain\n",
    "  {'START_OF_SENTENCE': ['i'], 'i': ['am'], 'am': ['happy'], 'happy': ['END_OF_SENTENCE']}\n",
    "  >>> add_sentence(test_chain, 'I am')\n",
    "  >>> test_chain\n",
    "  {'START_OF_SENTENCE': ['i', 'i'], 'i': ['am', 'am'], 'am': ['happy', 'END_OF_SENTENCE'], 'happy': ['END_OF_SENTENCE']}\n",
    "  \"\"\"\n",
    "  # Split the sentence into a list of words\n",
    "  words = wordify_sentence(sentence)\n",
    "\n",
    "  # Loop through each word in the list\n",
    "  # (Using a while loop gives you a way to know\n",
    "  # if the word is the first or the last)\n",
    "  i = 0\n",
    "  while i < len(words):\n",
    "    word = words[i]\n",
    "\n",
    "    # Handle case of first word in sentence\n",
    "    if ________:\n",
    "      __________\n",
    "\n",
    "    # If word isn't in chain yet, add it as a key\n",
    "    if ________:\n",
    "      __________\n",
    "\n",
    "    # Now figure out what word to add to\n",
    "    # the list of values for this word\n",
    "  \n",
    "    # First, handle case of last word in sentence\n",
    "    if ____________:\n",
    "      _____________\n",
    "    # Otherwise, handle case of a word that has a word after\n",
    "    else:\n",
    "      ______________\n",
    "\n",
    "    i += 1"
   ]
  }
 ],
 "metadata": {
  "kernelspec": {
   "display_name": "Python 3.9.10 ('base')",
   "language": "python",
   "name": "python3"
  },
  "language_info": {
   "codemirror_mode": {
    "name": "ipython",
    "version": 3
   },
   "file_extension": ".py",
   "mimetype": "text/x-python",
   "name": "python",
   "nbconvert_exporter": "python",
   "pygments_lexer": "ipython3",
   "version": "3.9.10"
  },
  "orig_nbformat": 4,
  "vscode": {
   "interpreter": {
    "hash": "45a801c6ebbba10eaccd0ddf3daf5701fe9695d703a37324cc415ab8ffdcd984"
   }
  }
 },
 "nbformat": 4,
 "nbformat_minor": 2
}
